{
 "cells": [
  {
   "cell_type": "code",
   "execution_count": null,
   "id": "ee6cbaa8-ef30-4fdf-a164-e9f7154f7705",
   "metadata": {},
   "outputs": [],
   "source": [
    "Q1. Explain GET and POST methods."
   ]
  },
  {
   "cell_type": "code",
   "execution_count": null,
   "id": "f3795728-0012-4cda-9f70-8188fd308b1c",
   "metadata": {},
   "outputs": [],
   "source": [
    "GET method:\n",
    "    GET requests are intended to retrieve data from a server and do not modify the servers state. \n",
    "\n",
    "POST method:\n",
    "    POST requests are used to send data to the server for processing and may modify the server's state.\n",
    "    \n",
    "    "
   ]
  },
  {
   "cell_type": "code",
   "execution_count": null,
   "id": "fa9b0a0d-1273-4ca9-821f-d9006c852394",
   "metadata": {},
   "outputs": [],
   "source": [
    "Q2. Why is request used in Flask?"
   ]
  },
  {
   "cell_type": "code",
   "execution_count": null,
   "id": "10f790b7-13ff-4371-ab38-7424333866e3",
   "metadata": {},
   "outputs": [],
   "source": [
    "--> In a flask App,we have our one webpage(client) and server.\n",
    "\n",
    "--> The server should process the data.\n",
    "\n",
    "--> The Request, in Flask, is an object that contains all the data sent from the Client to Server\n",
    "    his data can be recovered using the GET/POST Methods."
   ]
  },
  {
   "cell_type": "code",
   "execution_count": null,
   "id": "deb8005a-4e1f-40c1-9580-a9ad616d1022",
   "metadata": {},
   "outputs": [],
   "source": [
    "Q3. Why is redirect() used in Flask?"
   ]
  },
  {
   "cell_type": "code",
   "execution_count": null,
   "id": "5f31f28c-a24a-45cc-8b62-48ceb390c889",
   "metadata": {},
   "outputs": [],
   "source": [
    "--> A redirect is used in the Flask class to send the user to a particular URL with the status code\n",
    "\n",
    "--> it allows you to redirect the usre to another URL."
   ]
  },
  {
   "cell_type": "code",
   "execution_count": null,
   "id": "0f9a8d10-3a16-41ea-916f-03050c4a7bbe",
   "metadata": {},
   "outputs": [],
   "source": [
    "Q4. What are templates in Flask? Why is the render_template() function used?"
   ]
  },
  {
   "cell_type": "code",
   "execution_count": null,
   "id": "31cc7635-e849-42f9-a85a-31cef97451ca",
   "metadata": {},
   "outputs": [],
   "source": [
    "template:\n",
    "    Templates are files that contain static data as well as placeholders for dynamic data.\n",
    "    A template is rendered with specific data to produce a final document. \n",
    "    Flask uses the Jinja template library to render templates. \n",
    "    In your application, you will use templates to render HTML which will display in the users browser.\n",
    "\n",
    "    \n",
    "render_template() function:\n",
    "    The render_template finds the app by default in the templates folder. \n",
    "    So, we just need to provide the name of the template instead of the entire path to the template.\n",
    "    The index function renders a template index. \n",
    "    html and hence we see the result in the browser."
   ]
  },
  {
   "cell_type": "code",
   "execution_count": null,
   "id": "f0d0e5e2-fab3-490d-a31c-6c25c6d54739",
   "metadata": {},
   "outputs": [],
   "source": [
    "Q5. Create a simple API. Use Postman to test it. Attach the screenshot of the output in the Jupyter Notebook."
   ]
  },
  {
   "cell_type": "code",
   "execution_count": null,
   "id": "04eaa379-2cb5-4b8e-9953-530580cbc3d4",
   "metadata": {},
   "outputs": [],
   "source": []
  },
  {
   "cell_type": "code",
   "execution_count": null,
   "id": "69e57e71-c6ed-4b79-9691-b012da107dc2",
   "metadata": {},
   "outputs": [],
   "source": []
  },
  {
   "cell_type": "code",
   "execution_count": null,
   "id": "c9d4afaa-c5cf-4e4b-bb5f-0c154eec0199",
   "metadata": {},
   "outputs": [],
   "source": []
  },
  {
   "cell_type": "code",
   "execution_count": null,
   "id": "f36f9b61-dbb9-4c26-bf27-43fff8b3f084",
   "metadata": {},
   "outputs": [],
   "source": []
  }
 ],
 "metadata": {
  "kernelspec": {
   "display_name": "Python 3 (ipykernel)",
   "language": "python",
   "name": "python3"
  },
  "language_info": {
   "codemirror_mode": {
    "name": "ipython",
    "version": 3
   },
   "file_extension": ".py",
   "mimetype": "text/x-python",
   "name": "python",
   "nbconvert_exporter": "python",
   "pygments_lexer": "ipython3",
   "version": "3.10.8"
  }
 },
 "nbformat": 4,
 "nbformat_minor": 5
}
